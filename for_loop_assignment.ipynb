{
  "nbformat": 4,
  "nbformat_minor": 0,
  "metadata": {
    "colab": {
      "provenance": []
    },
    "kernelspec": {
      "name": "python3",
      "display_name": "Python 3"
    },
    "language_info": {
      "name": "python"
    }
  },
  "cells": [
    {
      "cell_type": "markdown",
      "source": [
        "## **Basic Level:**"
      ],
      "metadata": {
        "id": "2kI9zy4pPEiy"
      }
    },
    {
      "cell_type": "code",
      "execution_count": null,
      "metadata": {
        "id": "leFIm4_l29Qc"
      },
      "outputs": [],
      "source": [
        "for number in range(1, 11):\n",
        "    print(number)\n"
      ]
    },
    {
      "cell_type": "code",
      "source": [
        "# Defineing a list of numbers\n",
        "numbers = [1, 2, 3, 4, 5, 6, 7, 8, 9, 10]\n",
        "\n",
        "# Initialize a variable to store the sum\n",
        "sum_of_numbers = 0\n",
        "\n",
        "# Useing a for loop to iterate over each number in the list\n",
        "for number in numbers:\n",
        "    sum_of_numbers += number\n",
        "\n",
        "# Print the sum\n",
        "print(\"Sum of numbers:\", sum_of_numbers)\n"
      ],
      "metadata": {
        "id": "92W0KaOC3sRG"
      },
      "execution_count": null,
      "outputs": []
    },
    {
      "cell_type": "code",
      "source": [
        "# Input string\n",
        "input_string = \" I love coding\"\n",
        "\n",
        "# Useing a for loop to iterate over each character in reverse order\n",
        "for char in reversed(input_string):\n",
        "  print(char, end=\"\")\n",
        "\n",
        "\n"
      ],
      "metadata": {
        "id": "uS6HvJ9i4bRB"
      },
      "execution_count": null,
      "outputs": []
    },
    {
      "cell_type": "code",
      "source": [
        "# Input: Number for which factorial is to be calculated\n",
        "number = int(input(\"Enter your number: \"))\n",
        "\n",
        "# Initialize the factorial to 1\n",
        "factorial = 1\n",
        "\n",
        "# Use a for loop to multiply numbers from 1 to the given number\n",
        "for i in range(1, number + 1):\n",
        "    factorial *= i\n",
        "\n",
        "# Print the factorial\n",
        "print(f\"The factorial of {number} is: {factorial}\")\n"
      ],
      "metadata": {
        "id": "BaHRJd_lMOZS"
      },
      "execution_count": null,
      "outputs": []
    },
    {
      "cell_type": "code",
      "source": [
        "# Input: Number for which multiplication table is to be printed\n",
        "number = int(input(\"Enter a number: \"))\n",
        "\n",
        "# Use a for loop to print the multiplication table\n",
        "print(f\"Multiplication table for {number}:\")\n",
        "for i in range(1, 11):\n",
        "    result = number * i\n",
        "    print(f\"{number} x {i} = {result}\")\n"
      ],
      "metadata": {
        "id": "lTI3XhFHNDXq"
      },
      "execution_count": null,
      "outputs": []
    },
    {
      "cell_type": "code",
      "source": [
        "# Define a list of numbers\n",
        "numbers = [1, 2, 3, 4, 5, 6, 7, 8, 9, 10]\n",
        "\n",
        "# Initialize counters for even and odd numbers\n",
        "even_count = 0\n",
        "odd_count = 0\n",
        "\n",
        "# Use a for loop to iterate over each number in the list\n",
        "for number in numbers:\n",
        "    if number % 2 == 0:\n",
        "        even_count += 1\n",
        "    else:\n",
        "        odd_count += 1\n",
        "\n",
        "# Print the counts\n",
        "print(\"Number of even numbers:\", even_count)\n",
        "print(\"Number of odd numbers:\", odd_count)\n"
      ],
      "metadata": {
        "id": "pPrWL1i6NrKU"
      },
      "execution_count": null,
      "outputs": []
    },
    {
      "cell_type": "code",
      "source": [
        "# Use a for loop to print the squares of numbers from 1 to 5\n",
        "for i in range(1, 6):\n",
        "    square = i ** 2\n",
        "    print(f\"The square of {i} is: {square}\")\n"
      ],
      "metadata": {
        "id": "pPksD131N_Gs"
      },
      "execution_count": null,
      "outputs": []
    },
    {
      "cell_type": "markdown",
      "source": [
        "## **Intermediate Level:**"
      ],
      "metadata": {
        "id": "SXj9vcM8POla"
      }
    },
    {
      "cell_type": "code",
      "source": [
        "# Function to check for duplicates in a list\n",
        "def has_duplicates(lst):\n",
        "    seen = set()\n",
        "    for item in lst:\n",
        "        if item in seen:\n",
        "            return True\n",
        "        seen.add(item)\n",
        "    return False\n",
        "\n",
        "# Example usage\n",
        "my_list = [1, 2, 3, 4, 5, 2]  # This list contains duplicates (2 appears twice)\n",
        "\n",
        "# Check for duplicates\n",
        "if has_duplicates(my_list):\n",
        "    print(\"The list contains duplicates.\")\n",
        "else:\n",
        "    print(\"The list does not contain duplicates.\")\n"
      ],
      "metadata": {
        "id": "guZ9vzJkOYLm"
      },
      "execution_count": null,
      "outputs": []
    },
    {
      "cell_type": "code",
      "source": [
        "# Function to check if a number is prime\n",
        "def is_prime(num):\n",
        "    if num < 2:\n",
        "        return False\n",
        "    for i in range(2, int(num**0.5) + 1):\n",
        "        if num % i == 0:\n",
        "            return False\n",
        "    return True\n",
        "\n",
        "# Function to print prime numbers in a given range\n",
        "def print_primes_in_range(start, end):\n",
        "    print(f\"Prime numbers in the range {start} to {end}:\")\n",
        "    for number in range(start, end + 1):\n",
        "        if is_prime(number):\n",
        "            print(number)\n",
        "\n",
        "# Example usage\n",
        "start_range = 1\n",
        "end_range = 20\n",
        "\n",
        "# Print prime numbers in the given range\n",
        "print_primes_in_range(start_range, end_range)\n"
      ],
      "metadata": {
        "id": "v1kRwpZMPXeI"
      },
      "execution_count": null,
      "outputs": []
    },
    {
      "cell_type": "code",
      "source": [
        "# Function to count vowels in a string\n",
        "def count_vowels(input_string):\n",
        "    vowels = \"aeiouAEIOU\"\n",
        "    count = 0\n",
        "\n",
        "    for char in input_string:\n",
        "        if char in vowels:\n",
        "            count += 1\n",
        "\n",
        "    return count\n",
        "\n",
        "# Example usage\n",
        "input_string = input(\"Enter a string: \")\n",
        "\n",
        "# Count vowels in the input string\n",
        "vowel_count = count_vowels(input_string)\n",
        "\n",
        "# Print the result\n",
        "print(f\"The number of vowels in the string is: {vowel_count}\")\n"
      ],
      "metadata": {
        "id": "NYYZR6dgPupp"
      },
      "execution_count": null,
      "outputs": []
    },
    {
      "cell_type": "code",
      "source": [
        "# Function to find the maximum element in a 2D list\n",
        "def find_max_element(matrix):\n",
        "    # Assume the first element as the maximum\n",
        "    max_element = matrix[0][0]\n",
        "\n",
        "    # Use nested loops to iterate through each element in the matrix\n",
        "    for row in matrix:\n",
        "        for element in row:\n",
        "            # Update max_element if a greater element is found\n",
        "            if element > max_element:\n",
        "                max_element = element\n",
        "\n",
        "    return max_element\n",
        "\n",
        "# Example usage\n",
        "my_matrix = [\n",
        "    [3, 5, 2],\n",
        "    [8, 1, 4],\n",
        "    [6, 7, 9]\n",
        "]\n",
        "\n",
        "# Find the maximum element in the 2D list\n",
        "max_value = find_max_element(my_matrix)\n",
        "\n",
        "# Print the result\n",
        "print(f\"The maximum element in the 2D list is: {max_value}\")\n"
      ],
      "metadata": {
        "id": "DX3wUWICP7Ic"
      },
      "execution_count": null,
      "outputs": []
    },
    {
      "cell_type": "code",
      "source": [
        "# Define the range of numbers for the multiplication table\n",
        "start_range = 1\n",
        "end_range = 5\n",
        "\n",
        "# Use nested for loops to generate the multiplication table\n",
        "print(\"Multiplication Table:\")\n",
        "for i in range(start_range, end_range + 1):\n",
        "    for j in range(1, 11):\n",
        "        result = i * j\n",
        "        print(f\"{i} x {j} = {result}\")\n",
        "    print()  # Add a newline after each row for better readability\n"
      ],
      "metadata": {
        "id": "IzqfZR1iQZS5"
      },
      "execution_count": null,
      "outputs": []
    },
    {
      "cell_type": "code",
      "source": [
        "# Function to convert Fahrenheit to Celsius\n",
        "def fahrenheit_to_celsius(fahrenheit):\n",
        "    return (fahrenheit - 32) * 5 / 9\n",
        "\n",
        "# List of Fahrenheit temperatures\n",
        "fahrenheit_temperatures = [32, 68, 86, 104, 212]\n",
        "\n",
        "# Use a for loop to convert temperatures and print the result\n",
        "print(\"Fahrenheit\\tCelsius\")\n",
        "for fahrenheit in fahrenheit_temperatures:\n",
        "    celsius = fahrenheit_to_celsius(fahrenheit)\n",
        "    print(f\"{fahrenheit}\\t\\t{celsius:.2f}\")\n"
      ],
      "metadata": {
        "id": "uYyScgKLQ5Vs"
      },
      "execution_count": null,
      "outputs": []
    },
    {
      "cell_type": "markdown",
      "source": [
        "## **Advanced Level:**"
      ],
      "metadata": {
        "id": "CH7Dklv8RXqH"
      }
    },
    {
      "cell_type": "code",
      "source": [
        "# Function to calculate the sum of digits in a number\n",
        "def sum_of_digits(number):\n",
        "    return sum(int(digit) for digit in str(abs(number)))\n",
        "\n",
        "# List of numbers\n",
        "numbers = [123, 456, 789, 987]\n",
        "\n",
        "# Use a list comprehension to calculate the sum of digits for each number\n",
        "sums_of_digits = [sum_of_digits(number) for number in numbers]\n",
        "\n",
        "# Print the result\n",
        "for i, number in enumerate(numbers):\n",
        "    print(f\"Number: {number}, Sum of digits: {sums_of_digits[i]}\")\n"
      ],
      "metadata": {
        "id": "QrOE4GszRZ-2"
      },
      "execution_count": null,
      "outputs": []
    },
    {
      "cell_type": "code",
      "source": [
        "# Two lists to be combined into a dictionary\n",
        "keys = [\"name\", \"age\", \"city\"]\n",
        "values = [\"monu\", 25, \"ranchi\"]\n",
        "\n",
        "# Use a dictionary comprehension to combine the lists\n",
        "combined_dict = {keys[i]: values[i] for i in range(min(len(keys), len(values)))}\n",
        "\n",
        "# Print the resulting dictionary\n",
        "print(\"Combined Dictionary:\", combined_dict)\n"
      ],
      "metadata": {
        "id": "4l5qwWFVRpMQ"
      },
      "execution_count": null,
      "outputs": []
    },
    {
      "cell_type": "code",
      "source": [
        "# Nested list\n",
        "nested_list = [[1, 2, 3], [4, 5], [6, 7, 8]]\n",
        "\n",
        "# Flatten the nested list using list comprehension\n",
        "flattened_list = [item for sublist in nested_list for item in sublist]\n",
        "\n",
        "# Print the original and flattened lists\n",
        "print(\"Original Nested List:\", nested_list)\n",
        "print(\"Flattened List:\", flattened_list)\n"
      ],
      "metadata": {
        "id": "pO62-zGOSX3p"
      },
      "execution_count": null,
      "outputs": []
    },
    {
      "cell_type": "code",
      "source": [
        "# Function to check if a number is a palindrome\n",
        "def is_palindrome(number):\n",
        "    return str(number) == str(number)[::-1]\n",
        "\n",
        "# Specify the limit\n",
        "limit = 1000\n",
        "\n",
        "# Use list comprehension to generate a list of palindromic numbers\n",
        "palindromic_numbers = [num for num in range(limit) if is_palindrome(num)]\n",
        "\n",
        "# Print the list of palindromic numbers\n",
        "print(\"Palindromic Numbers up to\", limit, \":\", palindromic_numbers)\n"
      ],
      "metadata": {
        "id": "iM9EI1sISq_r"
      },
      "execution_count": null,
      "outputs": []
    },
    {
      "cell_type": "code",
      "source": [
        "# List of strings with alphanumeric characters\n",
        "strings_with_nonnumeric = ['abc123', '456def', '789.0', '1a2b3c']\n",
        "\n",
        "# Use list comprehension to remove non-numeric characters from each string\n",
        "numeric_strings = [''.join(char for char in s if char.isdigit() or char == '.') for s in strings_with_nonnumeric]\n",
        "\n",
        "# Print the original and modified lists\n",
        "print(\"Original List:\", strings_with_nonnumeric)\n",
        "print(\"List with Non-Numeric Characters Removed:\", numeric_strings)\n"
      ],
      "metadata": {
        "id": "LV0Lekt0S9OV"
      },
      "execution_count": null,
      "outputs": []
    },
    {
      "cell_type": "markdown",
      "source": [
        "## **Challenge Level:**"
      ],
      "metadata": {
        "id": "23-jyF7MTofX"
      }
    },
    {
      "cell_type": "code",
      "source": [
        "# Function to generate Pythagorean triplets up to a specified limit\n",
        "def pythagorean_triplets(limit):\n",
        "    return [(a, b, c) for a in range(1, limit + 1) for b in range(a, limit + 1) for c in range(b, limit + 1) if a**2 + b**2 == c**2]\n",
        "\n",
        "# Specify the limit for generating Pythagorean triplets\n",
        "limit = 20\n",
        "\n",
        "# Generate a list of Pythagorean triplets using list comprehension\n",
        "triplets = pythagorean_triplets(limit)\n",
        "\n",
        "# Print the list of Pythagorean triplets\n",
        "print(f\"Pythagorean Triplets up to {limit}:\", triplets)\n"
      ],
      "metadata": {
        "colab": {
          "base_uri": "https://localhost:8080/"
        },
        "id": "WmFEbn9kTZ6v",
        "outputId": "627b89fa-52c2-4c3e-93d8-23c2d886446e"
      },
      "execution_count": 17,
      "outputs": [
        {
          "output_type": "stream",
          "name": "stdout",
          "text": [
            "Pythagorean Triplets up to 20: [(3, 4, 5), (5, 12, 13), (6, 8, 10), (8, 15, 17), (9, 12, 15), (12, 16, 20)]\n"
          ]
        }
      ]
    },
    {
      "cell_type": "code",
      "source": [],
      "metadata": {
        "id": "_kBiF70UUAUB"
      },
      "execution_count": null,
      "outputs": []
    }
  ]
}